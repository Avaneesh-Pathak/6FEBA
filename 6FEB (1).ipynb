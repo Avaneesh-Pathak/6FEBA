{
 "cells": [
  {
   "cell_type": "code",
   "execution_count": 5,
   "id": "6ff0a242-7dfd-4381-9484-14c94b5a0b49",
   "metadata": {},
   "outputs": [],
   "source": [
    "def product_of_all_numbers(lst):\n",
    "    flat_list = []\n",
    "    for item in lst:\n",
    "        if type(item) in (int, float):\n",
    "            flat_list.append(item)\n",
    "        elif type(item) == list:\n",
    "            flat_list.extend(product_of_all_numbers(item))\n",
    "        elif type(item) == tuple:\n",
    "            flat_list.extend([num for num in item if type(num) in (int, float)])\n",
    "        elif type(item) == dict:\n",
    "            for key, value in item.items():\n",
    "                if type(key) in (int, float):\n",
    "                    flat_list.append(key)\n",
    "                if type(value) in (int, float):\n",
    "                    flat_list.append(value)\n",
    "                elif type(value) == list:\n",
    "                    flat_list.extend([num for num in value if type(num) in (int, float)])\n",
    "                elif type(value) == tuple:\n",
    "                    flat_list.extend([num for num in value if type(num) in (int, float)])\n",
    "    product = 1\n",
    "    for num in flat_list:\n",
    "        product *= num\n",
    "    return product\n"
   ]
  },
  {
   "cell_type": "code",
   "execution_count": null,
   "id": "d37301ce-14c4-4434-a570-e347f33fa71e",
   "metadata": {},
   "outputs": [],
   "source": [
    "list1 = [1,2,3,4, [44,55,66, True], False, (34,56,78,89,34), {1,2,3,3,2,1}, {1:34, \"key2\": [55, 67, 78, 89], 4: (45, 22, 61, 34)}, [56, 'data science'], 'Machine Learning']\n",
    "print(product_of_all_numbers(list1))\n"
   ]
  },
  {
   "cell_type": "code",
   "execution_count": 3,
   "id": "5f90491e-6d18-473d-92e7-52b52e33c833",
   "metadata": {},
   "outputs": [
    {
     "name": "stdout",
     "output_type": "stream",
     "text": [
      "r$dzmg$gl$yvxlnv$z$wzgz$hxrvmgrhg.\n"
     ]
    }
   ],
   "source": [
    "def encrypt_message(sentence):\n",
    "    sentence = sentence.lower()\n",
    "    encryption_dict = {'a': 'z', 'b': 'y', 'c': 'x', 'd': 'w', 'e': 'v', 'f': 'u', 'g': 't', 'h': 's', 'i': 'r', 'j': 'q', 'k': 'p', 'l': 'o', 'm': 'n', 'n': 'm', 'o': 'l', 'p': 'k', 'q': 'j', 'r': 'i', 's': 'h', 't': 'g', 'u': 'f', 'v': 'e', 'w': 'd', 'x': 'c', 'y': 'b', 'z': 'a', ' ': '$'}\n",
    "    encrypted_sentence = \"\"\n",
    "    for char in sentence:\n",
    "        encrypted_sentence += encryption_dict.get(char, char)\n",
    "    return encrypted_sentence\n",
    "\n",
    "sentence = \"I want to become a Data Scientist.\"\n",
    "print(encrypt_message(sentence))\n"
   ]
  },
  {
   "cell_type": "code",
   "execution_count": null,
   "id": "8d805f8f-e3f1-4c23-b0cd-1f59808ece94",
   "metadata": {},
   "outputs": [],
   "source": []
  }
 ],
 "metadata": {
  "kernelspec": {
   "display_name": "Python 3 (ipykernel)",
   "language": "python",
   "name": "python3"
  },
  "language_info": {
   "codemirror_mode": {
    "name": "ipython",
    "version": 3
   },
   "file_extension": ".py",
   "mimetype": "text/x-python",
   "name": "python",
   "nbconvert_exporter": "python",
   "pygments_lexer": "ipython3",
   "version": "3.10.8"
  }
 },
 "nbformat": 4,
 "nbformat_minor": 5
}
